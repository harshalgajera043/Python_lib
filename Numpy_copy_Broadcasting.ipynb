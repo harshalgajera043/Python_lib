{
 "cells": [
  {
   "cell_type": "code",
   "execution_count": 1,
   "id": "80d34998",
   "metadata": {},
   "outputs": [],
   "source": [
    "import numpy as np"
   ]
  },
  {
   "cell_type": "code",
   "execution_count": 2,
   "id": "41d4f3a1",
   "metadata": {},
   "outputs": [],
   "source": [
    "arr = np.array([[1,2,3],[4,5,6],[7,8,9]])"
   ]
  },
  {
   "cell_type": "code",
   "execution_count": 3,
   "id": "14716b82",
   "metadata": {},
   "outputs": [
    {
     "data": {
      "text/plain": [
       "array([[1, 2, 3],\n",
       "       [4, 5, 6],\n",
       "       [7, 8, 9]])"
      ]
     },
     "execution_count": 3,
     "metadata": {},
     "output_type": "execute_result"
    }
   ],
   "source": [
    "arr"
   ]
  },
  {
   "cell_type": "code",
   "execution_count": 4,
   "id": "a1cf8367",
   "metadata": {},
   "outputs": [
    {
     "data": {
      "text/plain": [
       "(3, 3)"
      ]
     },
     "execution_count": 4,
     "metadata": {},
     "output_type": "execute_result"
    }
   ],
   "source": [
    "arr.shape"
   ]
  },
  {
   "cell_type": "code",
   "execution_count": 5,
   "id": "8d6d58ed",
   "metadata": {},
   "outputs": [],
   "source": [
    "arr1 = arr.reshape(1,9)"
   ]
  },
  {
   "cell_type": "code",
   "execution_count": 6,
   "id": "a2fc156f",
   "metadata": {},
   "outputs": [
    {
     "data": {
      "text/plain": [
       "array([[1, 2, 3, 4, 5, 6, 7, 8, 9]])"
      ]
     },
     "execution_count": 6,
     "metadata": {},
     "output_type": "execute_result"
    }
   ],
   "source": [
    "arr1"
   ]
  },
  {
   "cell_type": "code",
   "execution_count": 7,
   "id": "78ceee1d",
   "metadata": {},
   "outputs": [],
   "source": [
    "arr2  = np.arange(0,10,0.2)\n",
    "arr3  = np.linspace(0,10,51)"
   ]
  },
  {
   "cell_type": "code",
   "execution_count": 8,
   "id": "c7ca7659",
   "metadata": {},
   "outputs": [
    {
     "name": "stdout",
     "output_type": "stream",
     "text": [
      "[0.  0.2 0.4 0.6 0.8 1.  1.2 1.4 1.6 1.8 2.  2.2 2.4 2.6 2.8 3.  3.2 3.4\n",
      " 3.6 3.8 4.  4.2 4.4 4.6 4.8 5.  5.2 5.4 5.6 5.8 6.  6.2 6.4 6.6 6.8 7.\n",
      " 7.2 7.4 7.6 7.8 8.  8.2 8.4 8.6 8.8 9.  9.2 9.4 9.6 9.8]\n",
      "[ 0.   0.2  0.4  0.6  0.8  1.   1.2  1.4  1.6  1.8  2.   2.2  2.4  2.6\n",
      "  2.8  3.   3.2  3.4  3.6  3.8  4.   4.2  4.4  4.6  4.8  5.   5.2  5.4\n",
      "  5.6  5.8  6.   6.2  6.4  6.6  6.8  7.   7.2  7.4  7.6  7.8  8.   8.2\n",
      "  8.4  8.6  8.8  9.   9.2  9.4  9.6  9.8 10. ]\n"
     ]
    }
   ],
   "source": [
    "print(arr2)\n",
    "print(arr3)"
   ]
  },
  {
   "cell_type": "code",
   "execution_count": 9,
   "id": "1b2dc495",
   "metadata": {},
   "outputs": [
    {
     "name": "stdout",
     "output_type": "stream",
     "text": [
      "(50,)\n",
      "(51,)\n"
     ]
    }
   ],
   "source": [
    "print(arr2.shape)\n",
    "print(arr3.shape)"
   ]
  },
  {
   "cell_type": "code",
   "execution_count": 10,
   "id": "6e5b1fed",
   "metadata": {},
   "outputs": [],
   "source": [
    "arr3 = arr3.reshape(17,3)"
   ]
  },
  {
   "cell_type": "code",
   "execution_count": 11,
   "id": "cf15dfd8",
   "metadata": {},
   "outputs": [
    {
     "data": {
      "text/plain": [
       "array([[ 0. ,  0.2,  0.4],\n",
       "       [ 0.6,  0.8,  1. ],\n",
       "       [ 1.2,  1.4,  1.6],\n",
       "       [ 1.8,  2. ,  2.2],\n",
       "       [ 2.4,  2.6,  2.8],\n",
       "       [ 3. ,  3.2,  3.4],\n",
       "       [ 3.6,  3.8,  4. ],\n",
       "       [ 4.2,  4.4,  4.6],\n",
       "       [ 4.8,  5. ,  5.2],\n",
       "       [ 5.4,  5.6,  5.8],\n",
       "       [ 6. ,  6.2,  6.4],\n",
       "       [ 6.6,  6.8,  7. ],\n",
       "       [ 7.2,  7.4,  7.6],\n",
       "       [ 7.8,  8. ,  8.2],\n",
       "       [ 8.4,  8.6,  8.8],\n",
       "       [ 9. ,  9.2,  9.4],\n",
       "       [ 9.6,  9.8, 10. ]])"
      ]
     },
     "execution_count": 11,
     "metadata": {},
     "output_type": "execute_result"
    }
   ],
   "source": [
    "arr3"
   ]
  },
  {
   "cell_type": "code",
   "execution_count": 12,
   "id": "940120e7",
   "metadata": {},
   "outputs": [
    {
     "data": {
      "text/plain": [
       "3.8000000000000003"
      ]
     },
     "execution_count": 12,
     "metadata": {},
     "output_type": "execute_result"
    }
   ],
   "source": [
    "arr3[6,1]"
   ]
  },
  {
   "cell_type": "code",
   "execution_count": 13,
   "id": "8ca13eb5",
   "metadata": {},
   "outputs": [
    {
     "data": {
      "text/plain": [
       "array([[ 9.2,  9.4],\n",
       "       [ 9.8, 10. ]])"
      ]
     },
     "execution_count": 13,
     "metadata": {},
     "output_type": "execute_result"
    }
   ],
   "source": [
    "arr3[15:,1:]"
   ]
  },
  {
   "cell_type": "code",
   "execution_count": 14,
   "id": "c6fd14c3",
   "metadata": {},
   "outputs": [
    {
     "data": {
      "text/plain": [
       "array([[0.6, 0.8, 1. ],\n",
       "       [1.2, 1.4, 1.6],\n",
       "       [1.8, 2. , 2.2]])"
      ]
     },
     "execution_count": 14,
     "metadata": {},
     "output_type": "execute_result"
    }
   ],
   "source": [
    "arr3[1:4,0:]"
   ]
  },
  {
   "cell_type": "code",
   "execution_count": 15,
   "id": "a080c7ce",
   "metadata": {},
   "outputs": [
    {
     "data": {
      "text/plain": [
       "<function ndarray.choose>"
      ]
     },
     "execution_count": 15,
     "metadata": {},
     "output_type": "execute_result"
    }
   ],
   "source": [
    "arr3.choose"
   ]
  },
  {
   "cell_type": "code",
   "execution_count": 16,
   "id": "c4351196",
   "metadata": {},
   "outputs": [
    {
     "data": {
      "text/plain": [
       "array([[ 0. ,  0.2,  0.4],\n",
       "       [ 0.6,  0.8,  1. ],\n",
       "       [ 1.2,  1.4,  1.6],\n",
       "       [ 1.8,  2. ,  2.2],\n",
       "       [ 2.4,  2.6,  2.8],\n",
       "       [ 3. ,  3.2,  3.4],\n",
       "       [ 3.6,  3.8,  4. ],\n",
       "       [ 4.2,  4.4,  4.6],\n",
       "       [ 4.8,  5. ,  5.2],\n",
       "       [ 5.4,  5.6,  5.8],\n",
       "       [ 6. ,  6.2,  6.4],\n",
       "       [ 6.6,  6.8,  7. ],\n",
       "       [ 7.2,  7.4,  7.6],\n",
       "       [ 7.8,  8. ,  8.2],\n",
       "       [ 8.4,  8.6,  8.8],\n",
       "       [ 9. ,  9.2,  9.4],\n",
       "       [ 9.6,  9.8, 10. ]])"
      ]
     },
     "execution_count": 16,
     "metadata": {},
     "output_type": "execute_result"
    }
   ],
   "source": [
    "#copy() function and broadcasting\n",
    "\n",
    "arr3"
   ]
  },
  {
   "cell_type": "code",
   "execution_count": 17,
   "id": "bcb3b623",
   "metadata": {},
   "outputs": [],
   "source": [
    "arr3 = arr"
   ]
  },
  {
   "cell_type": "code",
   "execution_count": 18,
   "id": "4adefe7a",
   "metadata": {},
   "outputs": [
    {
     "data": {
      "text/plain": [
       "array([[1, 2, 3],\n",
       "       [4, 5, 6],\n",
       "       [7, 8, 9]])"
      ]
     },
     "execution_count": 18,
     "metadata": {},
     "output_type": "execute_result"
    }
   ],
   "source": [
    "arr"
   ]
  },
  {
   "cell_type": "code",
   "execution_count": 19,
   "id": "a3d685c9",
   "metadata": {},
   "outputs": [
    {
     "data": {
      "text/plain": [
       "array([[1, 2, 3],\n",
       "       [4, 5, 6],\n",
       "       [7, 8, 9]])"
      ]
     },
     "execution_count": 19,
     "metadata": {},
     "output_type": "execute_result"
    }
   ],
   "source": [
    "arr3"
   ]
  },
  {
   "cell_type": "code",
   "execution_count": 20,
   "id": "d61c68c1",
   "metadata": {},
   "outputs": [],
   "source": [
    "arr3[1:,1:] = 100"
   ]
  },
  {
   "cell_type": "code",
   "execution_count": 21,
   "id": "6390375a",
   "metadata": {},
   "outputs": [
    {
     "name": "stdout",
     "output_type": "stream",
     "text": [
      "[[  1   2   3]\n",
      " [  4 100 100]\n",
      " [  7 100 100]]\n",
      "[[  1   2   3]\n",
      " [  4 100 100]\n",
      " [  7 100 100]]\n"
     ]
    }
   ],
   "source": [
    "print(arr)\n",
    "print(arr3)"
   ]
  },
  {
   "cell_type": "code",
   "execution_count": 22,
   "id": "e552ba9e",
   "metadata": {},
   "outputs": [],
   "source": [
    "arr[2:,1:] = 500"
   ]
  },
  {
   "cell_type": "code",
   "execution_count": 23,
   "id": "c59cbb41",
   "metadata": {},
   "outputs": [
    {
     "name": "stdout",
     "output_type": "stream",
     "text": [
      "[[  1   2   3]\n",
      " [  4 100 100]\n",
      " [  7 500 500]]\n"
     ]
    }
   ],
   "source": [
    "print(arr)"
   ]
  },
  {
   "cell_type": "code",
   "execution_count": 24,
   "id": "9130bb84",
   "metadata": {},
   "outputs": [],
   "source": [
    "arr2 = arr.copy()"
   ]
  },
  {
   "cell_type": "code",
   "execution_count": 25,
   "id": "88b394fb",
   "metadata": {},
   "outputs": [],
   "source": [
    "arr2 = arr3"
   ]
  },
  {
   "cell_type": "code",
   "execution_count": 26,
   "id": "8531db05",
   "metadata": {},
   "outputs": [
    {
     "name": "stdout",
     "output_type": "stream",
     "text": [
      "(3, 3)\n",
      "(3, 3)\n",
      "(3, 3)\n",
      "[[  1   2   3]\n",
      " [  4 100 100]\n",
      " [  7 500 500]]\n",
      "[[  1   2   3]\n",
      " [  4 100 100]\n",
      " [  7 500 500]]\n",
      "[[  1   2   3]\n",
      " [  4 100 100]\n",
      " [  7 500 500]]\n"
     ]
    }
   ],
   "source": [
    "print(arr2.shape)\n",
    "print(arr3.shape)\n",
    "print(arr.shape)\n",
    "print(arr)\n",
    "print(arr2)\n",
    "print(arr3)"
   ]
  },
  {
   "cell_type": "code",
   "execution_count": 27,
   "id": "97afbdc2",
   "metadata": {},
   "outputs": [],
   "source": [
    "arr2[1:,2:] = 1000"
   ]
  },
  {
   "cell_type": "code",
   "execution_count": 28,
   "id": "32e6c724",
   "metadata": {},
   "outputs": [
    {
     "name": "stdout",
     "output_type": "stream",
     "text": [
      "[[   1    2    3]\n",
      " [   4  100 1000]\n",
      " [   7  500 1000]]\n",
      "[[   1    2    3]\n",
      " [   4  100 1000]\n",
      " [   7  500 1000]]\n",
      "[[   1    2    3]\n",
      " [   4  100 1000]\n",
      " [   7  500 1000]]\n"
     ]
    }
   ],
   "source": [
    "print(arr2)\n",
    "print(arr3)\n",
    "print(arr)"
   ]
  },
  {
   "cell_type": "code",
   "execution_count": 29,
   "id": "780950f4",
   "metadata": {},
   "outputs": [
    {
     "name": "stdout",
     "output_type": "stream",
     "text": [
      "[[   1    2    3]\n",
      " [   4  100 1000]\n",
      " [   7  500 1000]]\n",
      "[[   1    2    3    4  100 1000    7  500 1000]]\n",
      "[[   1    2    3]\n",
      " [   4  100 1000]\n",
      " [   7  500 1000]]\n",
      "[[   1    2    3]\n",
      " [   4  100 1000]\n",
      " [   7  500 1000]]\n"
     ]
    }
   ],
   "source": [
    "print(arr)\n",
    "print(arr1)\n",
    "print(arr2)\n",
    "print(arr3)"
   ]
  },
  {
   "cell_type": "code",
   "execution_count": 33,
   "id": "7aa3ad9a",
   "metadata": {},
   "outputs": [],
   "source": [
    "arr4 = arr2.copy()"
   ]
  },
  {
   "cell_type": "raw",
   "id": "e0250a23",
   "metadata": {},
   "source": []
  },
  {
   "cell_type": "code",
   "execution_count": 36,
   "id": "153db476",
   "metadata": {},
   "outputs": [],
   "source": [
    "arr4[1:,1:] = 50"
   ]
  },
  {
   "cell_type": "raw",
   "id": "04d8e522",
   "metadata": {},
   "source": [
    "arr4"
   ]
  },
  {
   "cell_type": "code",
   "execution_count": 37,
   "id": "424e8168",
   "metadata": {},
   "outputs": [
    {
     "data": {
      "text/plain": [
       "array([[ 1,  2,  3],\n",
       "       [ 4, 50, 50],\n",
       "       [ 7, 50, 50]])"
      ]
     },
     "execution_count": 37,
     "metadata": {},
     "output_type": "execute_result"
    }
   ],
   "source": [
    "arr4"
   ]
  },
  {
   "cell_type": "code",
   "execution_count": 38,
   "id": "459e2de8",
   "metadata": {},
   "outputs": [
    {
     "data": {
      "text/plain": [
       "array([[   1,    2,    3],\n",
       "       [   4,  100, 1000],\n",
       "       [   7,  500, 1000]])"
      ]
     },
     "execution_count": 38,
     "metadata": {},
     "output_type": "execute_result"
    }
   ],
   "source": [
    "arr2"
   ]
  },
  {
   "cell_type": "code",
   "execution_count": 43,
   "id": "1cc75d14",
   "metadata": {},
   "outputs": [],
   "source": [
    "#ones array\n",
    "arr5 = np.ones(3,dtype = int)"
   ]
  },
  {
   "cell_type": "code",
   "execution_count": 44,
   "id": "ae98d8c0",
   "metadata": {},
   "outputs": [
    {
     "data": {
      "text/plain": [
       "array([1, 1, 1])"
      ]
     },
     "execution_count": 44,
     "metadata": {},
     "output_type": "execute_result"
    }
   ],
   "source": [
    "arr5"
   ]
  },
  {
   "cell_type": "raw",
   "id": "6f3075cb",
   "metadata": {},
   "source": [
    "#ones multidiamensional"
   ]
  },
  {
   "cell_type": "code",
   "execution_count": 45,
   "id": "4aee5130",
   "metadata": {},
   "outputs": [],
   "source": [
    "arr6 = np.ones((3,4), dtype = float)"
   ]
  },
  {
   "cell_type": "code",
   "execution_count": 46,
   "id": "c0bb2761",
   "metadata": {},
   "outputs": [
    {
     "data": {
      "text/plain": [
       "array([[1., 1., 1., 1.],\n",
       "       [1., 1., 1., 1.],\n",
       "       [1., 1., 1., 1.]])"
      ]
     },
     "execution_count": 46,
     "metadata": {},
     "output_type": "execute_result"
    }
   ],
   "source": [
    "arr6"
   ]
  },
  {
   "cell_type": "code",
   "execution_count": 50,
   "id": "60449864",
   "metadata": {},
   "outputs": [],
   "source": [
    "arr7 = np.zeros((2,3), dtype = int)"
   ]
  },
  {
   "cell_type": "code",
   "execution_count": 51,
   "id": "c6f5dc4d",
   "metadata": {},
   "outputs": [
    {
     "data": {
      "text/plain": [
       "array([[0, 0, 0],\n",
       "       [0, 0, 0]])"
      ]
     },
     "execution_count": 51,
     "metadata": {},
     "output_type": "execute_result"
    }
   ],
   "source": [
    "arr7"
   ]
  },
  {
   "cell_type": "code",
   "execution_count": 61,
   "id": "ce6b1671",
   "metadata": {},
   "outputs": [
    {
     "name": "stdout",
     "output_type": "stream",
     "text": [
      "[[   1    2    3]\n",
      " [   4  100 1000]\n",
      " [   7  500 1000]]\n"
     ]
    },
    {
     "data": {
      "text/plain": [
       "array([   3, 1000, 1000])"
      ]
     },
     "execution_count": 61,
     "metadata": {},
     "output_type": "execute_result"
    }
   ],
   "source": [
    "print(arr3)\n",
    "np.amax(arr3, axis = 1 )"
   ]
  },
  {
   "cell_type": "code",
   "execution_count": 80,
   "id": "e4449073",
   "metadata": {},
   "outputs": [],
   "source": [
    "ar = np.random.random_sample((2,5))"
   ]
  },
  {
   "cell_type": "code",
   "execution_count": 82,
   "id": "a3cb1ef2",
   "metadata": {},
   "outputs": [
    {
     "name": "stdout",
     "output_type": "stream",
     "text": [
      "[[0.12716576 0.48449732 0.14300286 0.45930468 0.38111296]\n",
      " [0.91524186 0.8319395  0.76699651 0.37600821 0.91854254]]\n"
     ]
    }
   ],
   "source": [
    "print(ar)"
   ]
  },
  {
   "cell_type": "code",
   "execution_count": null,
   "id": "ec86bdd4",
   "metadata": {},
   "outputs": [],
   "source": []
  }
 ],
 "metadata": {
  "kernelspec": {
   "display_name": "Python 3 (ipykernel)",
   "language": "python",
   "name": "python3"
  },
  "language_info": {
   "codemirror_mode": {
    "name": "ipython",
    "version": 3
   },
   "file_extension": ".py",
   "mimetype": "text/x-python",
   "name": "python",
   "nbconvert_exporter": "python",
   "pygments_lexer": "ipython3",
   "version": "3.9.12"
  }
 },
 "nbformat": 4,
 "nbformat_minor": 5
}
