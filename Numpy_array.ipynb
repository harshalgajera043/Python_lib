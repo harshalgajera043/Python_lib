{
 "cells": [
  {
   "cell_type": "code",
   "execution_count": 1,
   "id": "60c4582d",
   "metadata": {},
   "outputs": [],
   "source": [
    "import numpy as np"
   ]
  },
  {
   "cell_type": "code",
   "execution_count": 5,
   "id": "9bbcc5d5",
   "metadata": {},
   "outputs": [
    {
     "name": "stdout",
     "output_type": "stream",
     "text": [
      "(9,)\n",
      "(9,)\n",
      "(3, 3)\n",
      "[1 2 3 4 5 6 7 8 9]\n",
      "[[1 2 3]\n",
      " [4 5 6]\n",
      " [7 8 9]]\n",
      "<class 'numpy.ndarray'>\n",
      "<class 'numpy.ndarray'>\n"
     ]
    }
   ],
   "source": [
    "arr = np.array([1,2,3,4,5,6,7,8,9])\n",
    "arr1 = np.array([1,2,3,4,5,6,7,8,9])\n",
    "print(arr.shape)\n",
    "print(arr1.shape)\n",
    "arr1 = arr1.reshape(3,3)\n",
    "print(arr1.shape)\n",
    "print(arr)\n",
    "print(arr1)\n",
    "print(type(arr))\n",
    "print(type(arr1))"
   ]
  },
  {
   "cell_type": "code",
   "execution_count": 6,
   "id": "0f8993fe",
   "metadata": {},
   "outputs": [
    {
     "data": {
      "text/plain": [
       "(9,)"
      ]
     },
     "execution_count": 6,
     "metadata": {},
     "output_type": "execute_result"
    }
   ],
   "source": [
    "arr.shape"
   ]
  },
  {
   "cell_type": "code",
   "execution_count": 10,
   "id": "25ab650b",
   "metadata": {},
   "outputs": [
    {
     "name": "stdout",
     "output_type": "stream",
     "text": [
      "1\n",
      "2\n"
     ]
    }
   ],
   "source": [
    "\"\"\"indexing starts with zero for one diamensional arrays like lists\n",
    "where arr[index value] will return value of data on that index position.\"\"\"\n",
    "print(arr[0])\n",
    "print(arr[1])"
   ]
  },
  {
   "cell_type": "code",
   "execution_count": 16,
   "id": "467008bb",
   "metadata": {},
   "outputs": [
    {
     "name": "stdout",
     "output_type": "stream",
     "text": [
      "1\n",
      "[3 6 9]\n"
     ]
    }
   ],
   "source": [
    "#idexing for multi-diamensions\n",
    "\"\"\" where arr1[ index value of row, index value of column], will return data value at the given location\n",
    "arr1[0:,2:] will return 3rd column\"\"\"\n",
    "\n",
    "print(arr1[0,0])\n",
    "print(arr1[0:,2])"
   ]
  },
  {
   "cell_type": "code",
   "execution_count": 17,
   "id": "9546b3d2",
   "metadata": {},
   "outputs": [
    {
     "data": {
      "text/plain": [
       "array([[5, 6],\n",
       "       [8, 9]])"
      ]
     },
     "execution_count": 17,
     "metadata": {},
     "output_type": "execute_result"
    }
   ],
   "source": [
    "arr1[1:,1:]"
   ]
  },
  {
   "cell_type": "code",
   "execution_count": 44,
   "id": "7218c12f",
   "metadata": {},
   "outputs": [],
   "source": [
    "arr2 = np.arange(1,19,0.5) #using arange for numpy array data alloting whhere np.arrange(start value, stop value, step value)"
   ]
  },
  {
   "cell_type": "code",
   "execution_count": 45,
   "id": "b7fbe539",
   "metadata": {},
   "outputs": [
    {
     "name": "stdout",
     "output_type": "stream",
     "text": [
      "[ 1.   1.5  2.   2.5  3.   3.5  4.   4.5  5.   5.5  6.   6.5  7.   7.5\n",
      "  8.   8.5  9.   9.5 10.  10.5 11.  11.5 12.  12.5 13.  13.5 14.  14.5\n",
      " 15.  15.5 16.  16.5 17.  17.5 18.  18.5]\n",
      "<class 'numpy.ndarray'>\n",
      "(36,)\n"
     ]
    }
   ],
   "source": [
    "print(arr2)\n",
    "print(type(arr2))\n",
    "print(arr2.shape)"
   ]
  },
  {
   "cell_type": "code",
   "execution_count": 46,
   "id": "7ce1ef01",
   "metadata": {},
   "outputs": [],
   "source": [
    "arr3 = arr2.reshape(9,4)"
   ]
  },
  {
   "cell_type": "code",
   "execution_count": 47,
   "id": "e4e9a79d",
   "metadata": {},
   "outputs": [
    {
     "name": "stdout",
     "output_type": "stream",
     "text": [
      "[ 1.   1.5  2.   2.5  3.   3.5  4.   4.5  5.   5.5  6.   6.5  7.   7.5\n",
      "  8.   8.5  9.   9.5 10.  10.5 11.  11.5 12.  12.5 13.  13.5 14.  14.5\n",
      " 15.  15.5 16.  16.5 17.  17.5 18.  18.5]\n",
      "[[ 1.   1.5  2.   2.5]\n",
      " [ 3.   3.5  4.   4.5]\n",
      " [ 5.   5.5  6.   6.5]\n",
      " [ 7.   7.5  8.   8.5]\n",
      " [ 9.   9.5 10.  10.5]\n",
      " [11.  11.5 12.  12.5]\n",
      " [13.  13.5 14.  14.5]\n",
      " [15.  15.5 16.  16.5]\n",
      " [17.  17.5 18.  18.5]]\n"
     ]
    }
   ],
   "source": [
    "print(arr2)\n",
    "print(arr3)"
   ]
  },
  {
   "cell_type": "code",
   "execution_count": 48,
   "id": "14758590",
   "metadata": {},
   "outputs": [],
   "source": [
    "#3-diamensional arrays\n",
    "my_lst1 = [1]\n",
    "my_lst2 = [2]\n",
    "my_lst3 = [3]\n",
    "my_lst4 = [4]\n",
    "my_lst5 = [5]\n",
    "my_lst6 = [6]\n",
    "my_lst7 = [7]\n",
    "my_lst8 = [8]\n",
    "my_lst9 = [9]"
   ]
  },
  {
   "cell_type": "code",
   "execution_count": 49,
   "id": "169854cd",
   "metadata": {},
   "outputs": [],
   "source": [
    "arr1 = np.array([my_lst1, my_lst2, my_lst3])\n",
    "arr2 = np.array([my_lst4, my_lst5, my_lst6])\n",
    "arr3 = np.array([my_lst7, my_lst8, my_lst9])"
   ]
  },
  {
   "cell_type": "code",
   "execution_count": 51,
   "id": "a1ece6f5",
   "metadata": {},
   "outputs": [
    {
     "name": "stdout",
     "output_type": "stream",
     "text": [
      "[[1]\n",
      " [2]\n",
      " [3]]\n",
      "[[4]\n",
      " [5]\n",
      " [6]]\n",
      "[[7]\n",
      " [8]\n",
      " [9]]\n",
      "(3, 1)\n",
      "(3, 1)\n",
      "(3, 1)\n",
      "<class 'numpy.ndarray'>\n",
      "<class 'numpy.ndarray'>\n",
      "<class 'numpy.ndarray'>\n"
     ]
    }
   ],
   "source": [
    "print(arr1)\n",
    "print(arr2)\n",
    "print(arr3)\n",
    "print(arr1.shape)\n",
    "print(arr2.shape)\n",
    "print(arr3.shape)\n",
    "print(type(arr1))\n",
    "print(type(arr2))\n",
    "print(type(arr3))"
   ]
  },
  {
   "cell_type": "code",
   "execution_count": 52,
   "id": "4274703b",
   "metadata": {},
   "outputs": [
    {
     "ename": "TypeError",
     "evalue": "'numpy.ndarray' object is not callable",
     "output_type": "error",
     "traceback": [
      "\u001b[1;31m---------------------------------------------------------------------------\u001b[0m",
      "\u001b[1;31mTypeError\u001b[0m                                 Traceback (most recent call last)",
      "Input \u001b[1;32mIn [52]\u001b[0m, in \u001b[0;36m<cell line: 1>\u001b[1;34m()\u001b[0m\n\u001b[1;32m----> 1\u001b[0m arr3D \u001b[38;5;241m=\u001b[39m \u001b[43marr\u001b[49m\u001b[43m(\u001b[49m\u001b[43m[\u001b[49m\u001b[43marr1\u001b[49m\u001b[43m,\u001b[49m\u001b[43marr2\u001b[49m\u001b[43m,\u001b[49m\u001b[43marr3\u001b[49m\u001b[43m]\u001b[49m\u001b[43m)\u001b[49m\n",
      "\u001b[1;31mTypeError\u001b[0m: 'numpy.ndarray' object is not callable"
     ]
    }
   ],
   "source": [
    "arr3D = arr([arr1,arr2,arr3])"
   ]
  },
  {
   "cell_type": "code",
   "execution_count": 79,
   "id": "1dd87399",
   "metadata": {},
   "outputs": [],
   "source": [
    "#linspace np.linspace(start,stop, total  number of require point)\n",
    "\n",
    "arr4 = np.linspace(0,10,100)"
   ]
  },
  {
   "cell_type": "code",
   "execution_count": 81,
   "id": "b1826212",
   "metadata": {},
   "outputs": [
    {
     "name": "stdout",
     "output_type": "stream",
     "text": [
      "[[ 0.          0.1010101   0.2020202   0.3030303   0.4040404   0.50505051\n",
      "   0.60606061  0.70707071  0.80808081  0.90909091]\n",
      " [ 1.01010101  1.11111111  1.21212121  1.31313131  1.41414141  1.51515152\n",
      "   1.61616162  1.71717172  1.81818182  1.91919192]\n",
      " [ 2.02020202  2.12121212  2.22222222  2.32323232  2.42424242  2.52525253\n",
      "   2.62626263  2.72727273  2.82828283  2.92929293]\n",
      " [ 3.03030303  3.13131313  3.23232323  3.33333333  3.43434343  3.53535354\n",
      "   3.63636364  3.73737374  3.83838384  3.93939394]\n",
      " [ 4.04040404  4.14141414  4.24242424  4.34343434  4.44444444  4.54545455\n",
      "   4.64646465  4.74747475  4.84848485  4.94949495]\n",
      " [ 5.05050505  5.15151515  5.25252525  5.35353535  5.45454545  5.55555556\n",
      "   5.65656566  5.75757576  5.85858586  5.95959596]\n",
      " [ 6.06060606  6.16161616  6.26262626  6.36363636  6.46464646  6.56565657\n",
      "   6.66666667  6.76767677  6.86868687  6.96969697]\n",
      " [ 7.07070707  7.17171717  7.27272727  7.37373737  7.47474747  7.57575758\n",
      "   7.67676768  7.77777778  7.87878788  7.97979798]\n",
      " [ 8.08080808  8.18181818  8.28282828  8.38383838  8.48484848  8.58585859\n",
      "   8.68686869  8.78787879  8.88888889  8.98989899]\n",
      " [ 9.09090909  9.19191919  9.29292929  9.39393939  9.49494949  9.5959596\n",
      "   9.6969697   9.7979798   9.8989899  10.        ]]\n",
      "[[ 0.          0.1010101   0.2020202   0.3030303   0.4040404   0.50505051\n",
      "   0.60606061  0.70707071  0.80808081  0.90909091]\n",
      " [ 1.01010101  1.11111111  1.21212121  1.31313131  1.41414141  1.51515152\n",
      "   1.61616162  1.71717172  1.81818182  1.91919192]\n",
      " [ 2.02020202  2.12121212  2.22222222  2.32323232  2.42424242  2.52525253\n",
      "   2.62626263  2.72727273  2.82828283  2.92929293]\n",
      " [ 3.03030303  3.13131313  3.23232323  3.33333333  3.43434343  3.53535354\n",
      "   3.63636364  3.73737374  3.83838384  3.93939394]\n",
      " [ 4.04040404  4.14141414  4.24242424  4.34343434  4.44444444  4.54545455\n",
      "   4.64646465  4.74747475  4.84848485  4.94949495]\n",
      " [ 5.05050505  5.15151515  5.25252525  5.35353535  5.45454545  5.55555556\n",
      "   5.65656566  5.75757576  5.85858586  5.95959596]\n",
      " [ 6.06060606  6.16161616  6.26262626  6.36363636  6.46464646  6.56565657\n",
      "   6.66666667  6.76767677  6.86868687  6.96969697]\n",
      " [ 7.07070707  7.17171717  7.27272727  7.37373737  7.47474747  7.57575758\n",
      "   7.67676768  7.77777778  7.87878788  7.97979798]\n",
      " [ 8.08080808  8.18181818  8.28282828  8.38383838  8.48484848  8.58585859\n",
      "   8.68686869  8.78787879  8.88888889  8.98989899]\n",
      " [ 9.09090909  9.19191919  9.29292929  9.39393939  9.49494949  9.5959596\n",
      "   9.6969697   9.7979798   9.8989899  10.        ]]\n",
      "(10, 10)\n"
     ]
    }
   ],
   "source": [
    "print(arr4)\n",
    "arr4 = arr4.reshape(10,10)\n",
    "print(arr4)\n",
    "print(arr4.shape)"
   ]
  },
  {
   "cell_type": "code",
   "execution_count": 85,
   "id": "355f005a",
   "metadata": {},
   "outputs": [
    {
     "name": "stdout",
     "output_type": "stream",
     "text": [
      "5.555555555555555\n",
      "[[ 5.55555556  5.65656566  5.75757576  5.85858586  5.95959596]\n",
      " [ 6.56565657  6.66666667  6.76767677  6.86868687  6.96969697]\n",
      " [ 7.57575758  7.67676768  7.77777778  7.87878788  7.97979798]\n",
      " [ 8.58585859  8.68686869  8.78787879  8.88888889  8.98989899]\n",
      " [ 9.5959596   9.6969697   9.7979798   9.8989899  10.        ]]\n",
      "(5, 5)\n"
     ]
    }
   ],
   "source": [
    "print(arr4[5,5]) # will return a specific value\n",
    "arr5 = arr4[5:,5:] #will return another array containing row 5 to 9 and column 5 t0 9 give [] array as a result.\n",
    "print(arr5)\n",
    "print(arr5.shape)"
   ]
  },
  {
   "cell_type": "code",
   "execution_count": null,
   "id": "b529b6f6",
   "metadata": {},
   "outputs": [],
   "source": []
  },
  {
   "cell_type": "code",
   "execution_count": null,
   "id": "689086e8",
   "metadata": {},
   "outputs": [],
   "source": []
  }
 ],
 "metadata": {
  "kernelspec": {
   "display_name": "Python 3 (ipykernel)",
   "language": "python",
   "name": "python3"
  },
  "language_info": {
   "codemirror_mode": {
    "name": "ipython",
    "version": 3
   },
   "file_extension": ".py",
   "mimetype": "text/x-python",
   "name": "python",
   "nbconvert_exporter": "python",
   "pygments_lexer": "ipython3",
   "version": "3.9.12"
  }
 },
 "nbformat": 4,
 "nbformat_minor": 5
}
