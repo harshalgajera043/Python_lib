{
 "cells": [
  {
   "cell_type": "code",
   "execution_count": 3,
   "id": "9c000266",
   "metadata": {},
   "outputs": [],
   "source": [
    "import numpy as np"
   ]
  },
  {
   "cell_type": "code",
   "execution_count": 4,
   "id": "dcdc4105",
   "metadata": {},
   "outputs": [],
   "source": [
    "arr = np.arange(1,100,2.5)"
   ]
  },
  {
   "cell_type": "code",
   "execution_count": 5,
   "id": "0bd39533",
   "metadata": {},
   "outputs": [
    {
     "name": "stdout",
     "output_type": "stream",
     "text": [
      "[ 1.   3.5  6.   8.5 11.  13.5 16.  18.5 21.  23.5 26.  28.5 31.  33.5\n",
      " 36.  38.5 41.  43.5 46.  48.5 51.  53.5 56.  58.5 61.  63.5 66.  68.5\n",
      " 71.  73.5 76.  78.5 81.  83.5 86.  88.5 91.  93.5 96.  98.5]\n"
     ]
    }
   ],
   "source": [
    "print(arr)"
   ]
  },
  {
   "cell_type": "code",
   "execution_count": 6,
   "id": "8654e356",
   "metadata": {},
   "outputs": [
    {
     "data": {
      "text/plain": [
       "40"
      ]
     },
     "execution_count": 6,
     "metadata": {},
     "output_type": "execute_result"
    }
   ],
   "source": [
    "arr.size"
   ]
  },
  {
   "cell_type": "code",
   "execution_count": 7,
   "id": "045a160c",
   "metadata": {},
   "outputs": [],
   "source": [
    "arr1 = arr.reshape(2,2,2,5)"
   ]
  },
  {
   "cell_type": "code",
   "execution_count": 8,
   "id": "acda80a8",
   "metadata": {},
   "outputs": [
    {
     "name": "stdout",
     "output_type": "stream",
     "text": [
      "[[[[ 1.   3.5  6.   8.5 11. ]\n",
      "   [13.5 16.  18.5 21.  23.5]]\n",
      "\n",
      "  [[26.  28.5 31.  33.5 36. ]\n",
      "   [38.5 41.  43.5 46.  48.5]]]\n",
      "\n",
      "\n",
      " [[[51.  53.5 56.  58.5 61. ]\n",
      "   [63.5 66.  68.5 71.  73.5]]\n",
      "\n",
      "  [[76.  78.5 81.  83.5 86. ]\n",
      "   [88.5 91.  93.5 96.  98.5]]]]\n"
     ]
    }
   ],
   "source": [
    "print(arr1)"
   ]
  },
  {
   "cell_type": "code",
   "execution_count": 9,
   "id": "ca3195c3",
   "metadata": {},
   "outputs": [
    {
     "name": "stdout",
     "output_type": "stream",
     "text": [
      "4\n"
     ]
    }
   ],
   "source": [
    "print(arr1.ndim)"
   ]
  },
  {
   "cell_type": "code",
   "execution_count": 10,
   "id": "480d64ae",
   "metadata": {},
   "outputs": [
    {
     "data": {
      "text/plain": [
       "43.5"
      ]
     },
     "execution_count": 10,
     "metadata": {},
     "output_type": "execute_result"
    }
   ],
   "source": [
    "arr1[0,1,1,2]"
   ]
  },
  {
   "cell_type": "code",
   "execution_count": 11,
   "id": "81fd29d2",
   "metadata": {},
   "outputs": [
    {
     "data": {
      "text/plain": [
       "array([[[[31. , 33.5],\n",
       "         [43.5, 46. ]]],\n",
       "\n",
       "\n",
       "       [[[81. , 83.5],\n",
       "         [93.5, 96. ]]]])"
      ]
     },
     "execution_count": 11,
     "metadata": {},
     "output_type": "execute_result"
    }
   ],
   "source": [
    "arr1[:,1:,:,2:4]"
   ]
  },
  {
   "cell_type": "code",
   "execution_count": 12,
   "id": "7f5268a4",
   "metadata": {},
   "outputs": [
    {
     "data": {
      "text/plain": [
       "array([[[[ 1. ,  6. ],\n",
       "         [13.5, 18.5]],\n",
       "\n",
       "        [[26. , 31. ],\n",
       "         [38.5, 43.5]]],\n",
       "\n",
       "\n",
       "       [[[51. , 56. ],\n",
       "         [63.5, 68.5]],\n",
       "\n",
       "        [[76. , 81. ],\n",
       "         [88.5, 93.5]]]])"
      ]
     },
     "execution_count": 12,
     "metadata": {},
     "output_type": "execute_result"
    }
   ],
   "source": [
    "arr1[:,:,:,0:4:2]"
   ]
  },
  {
   "cell_type": "code",
   "execution_count": 13,
   "id": "3babd1b1",
   "metadata": {},
   "outputs": [
    {
     "data": {
      "text/plain": [
       "array([[0, 0, 0],\n",
       "       [0, 0, 0]])"
      ]
     },
     "execution_count": 13,
     "metadata": {},
     "output_type": "execute_result"
    }
   ],
   "source": [
    "np.zeros((2,3), dtype = np.int32)"
   ]
  },
  {
   "cell_type": "code",
   "execution_count": 14,
   "id": "3ee351ae",
   "metadata": {},
   "outputs": [],
   "source": [
    "a = np.full((2,3),8,dtype = np.float32)"
   ]
  },
  {
   "cell_type": "code",
   "execution_count": 15,
   "id": "d4046a62",
   "metadata": {},
   "outputs": [
    {
     "name": "stdout",
     "output_type": "stream",
     "text": [
      "[[8. 8. 8.]\n",
      " [8. 8. 8.]]\n"
     ]
    }
   ],
   "source": [
    "print(a)"
   ]
  },
  {
   "cell_type": "code",
   "execution_count": 16,
   "id": "5e31041c",
   "metadata": {},
   "outputs": [],
   "source": [
    "a[:,1:] = 4"
   ]
  },
  {
   "cell_type": "code",
   "execution_count": 17,
   "id": "895cf0a3",
   "metadata": {},
   "outputs": [
    {
     "data": {
      "text/plain": [
       "array([[8., 4., 4.],\n",
       "       [8., 4., 4.]], dtype=float32)"
      ]
     },
     "execution_count": 17,
     "metadata": {},
     "output_type": "execute_result"
    }
   ],
   "source": [
    "a"
   ]
  },
  {
   "cell_type": "code",
   "execution_count": 18,
   "id": "816af0a1",
   "metadata": {},
   "outputs": [],
   "source": [
    "b = np.random.randint(0, 100,(3,4,5,6), dtype = np.int64)"
   ]
  },
  {
   "cell_type": "code",
   "execution_count": 19,
   "id": "f127c3e9",
   "metadata": {},
   "outputs": [
    {
     "data": {
      "text/plain": [
       "array([[[[25, 73,  3, 38, 21, 98],\n",
       "         [ 5, 74,  9, 79, 55, 58],\n",
       "         [60, 75, 13, 43, 20, 99],\n",
       "         [55, 15, 47, 94,  3, 70],\n",
       "         [28, 26, 37,  4, 37, 36]],\n",
       "\n",
       "        [[50,  1, 29, 68,  2, 50],\n",
       "         [81, 71, 91, 10, 57, 33],\n",
       "         [87, 89, 65, 75, 18, 29],\n",
       "         [16, 38, 37,  3, 76, 47],\n",
       "         [70, 94, 19, 54, 14, 40]],\n",
       "\n",
       "        [[36, 77, 85, 61, 69, 13],\n",
       "         [49,  7, 54, 42, 76, 50],\n",
       "         [70, 96, 41, 30, 11, 99],\n",
       "         [21, 10,  3,  3, 86, 87],\n",
       "         [85, 17, 22, 36, 84, 86]],\n",
       "\n",
       "        [[17, 20, 72, 86, 65, 90],\n",
       "         [32, 97, 71, 87,  7, 87],\n",
       "         [13, 64, 42,  7, 44, 71],\n",
       "         [46, 64, 71, 28, 40, 22],\n",
       "         [65, 91, 55, 46, 74, 28]]],\n",
       "\n",
       "\n",
       "       [[[44, 36, 45, 77, 32, 37],\n",
       "         [43, 83, 85, 65,  5, 66],\n",
       "         [69, 44, 33,  9, 73, 51],\n",
       "         [47, 87, 91, 68, 93, 98],\n",
       "         [ 9, 70, 93, 44, 76, 78]],\n",
       "\n",
       "        [[54, 17, 90, 37,  1, 48],\n",
       "         [72,  9, 61, 91, 38, 58],\n",
       "         [49, 17, 68, 68, 22, 30],\n",
       "         [84,  7, 14, 93, 64, 55],\n",
       "         [55, 40,  5, 72, 60, 11]],\n",
       "\n",
       "        [[24, 23, 36, 81, 48, 88],\n",
       "         [88, 10, 92, 17, 49,  0],\n",
       "         [15, 97, 18, 67, 72, 98],\n",
       "         [31, 85, 79, 79, 85, 21],\n",
       "         [12, 48,  7, 46, 50, 88]],\n",
       "\n",
       "        [[45,  2,  3, 39, 92, 44],\n",
       "         [37, 41, 50, 30, 35, 45],\n",
       "         [42, 94, 83,  1, 81, 53],\n",
       "         [41, 43, 47, 87, 18, 34],\n",
       "         [57,  0, 12, 81, 92, 21]]],\n",
       "\n",
       "\n",
       "       [[[68, 32, 33, 88, 20, 97],\n",
       "         [97, 12, 36, 17,  4, 66],\n",
       "         [24, 53, 39,  3, 14, 54],\n",
       "         [63, 13, 49,  1, 78, 25],\n",
       "         [85, 13, 39, 45, 83, 45]],\n",
       "\n",
       "        [[18, 48, 14,  9,  3, 87],\n",
       "         [71, 73, 45, 37, 37, 87],\n",
       "         [19, 56, 82, 56, 21, 56],\n",
       "         [91, 13, 38, 68, 69, 68],\n",
       "         [47, 98, 71, 29, 90, 29]],\n",
       "\n",
       "        [[46, 45, 77, 46, 30, 57],\n",
       "         [17, 84, 32, 52, 27, 64],\n",
       "         [66, 41, 32,  2, 27, 50],\n",
       "         [81, 84, 46, 30, 62, 89],\n",
       "         [30, 17, 73, 46,  4, 71]],\n",
       "\n",
       "        [[85, 15, 92, 56, 59, 70],\n",
       "         [56, 47, 26, 35, 69, 96],\n",
       "         [29, 28, 85, 99, 37, 55],\n",
       "         [96, 63, 56,  2, 34, 78],\n",
       "         [66, 50, 91, 29, 42, 95]]]], dtype=int64)"
      ]
     },
     "execution_count": 19,
     "metadata": {},
     "output_type": "execute_result"
    }
   ],
   "source": [
    "b"
   ]
  },
  {
   "cell_type": "code",
   "execution_count": 20,
   "id": "9a8499fd",
   "metadata": {},
   "outputs": [
    {
     "data": {
      "text/plain": [
       "360"
      ]
     },
     "execution_count": 20,
     "metadata": {},
     "output_type": "execute_result"
    }
   ],
   "source": [
    "b.size"
   ]
  },
  {
   "cell_type": "code",
   "execution_count": 22,
   "id": "ba356051",
   "metadata": {},
   "outputs": [
    {
     "data": {
      "text/plain": [
       "8"
      ]
     },
     "execution_count": 22,
     "metadata": {},
     "output_type": "execute_result"
    }
   ],
   "source": [
    "b.itemsize"
   ]
  },
  {
   "cell_type": "code",
   "execution_count": 32,
   "id": "8e5c5b43",
   "metadata": {},
   "outputs": [],
   "source": [
    "c = np.identity(4, dtype = int)"
   ]
  },
  {
   "cell_type": "code",
   "execution_count": 30,
   "id": "e80a8922",
   "metadata": {},
   "outputs": [
    {
     "data": {
      "text/plain": [
       "array([[[[25, 73,  3, 38, 21, 98],\n",
       "         [ 5, 74,  9, 79, 55, 58],\n",
       "         [60, 75, 13, 43, 20, 99],\n",
       "         [55, 15, 47, 94,  3, 70],\n",
       "         [28, 26, 37,  4, 37, 36]],\n",
       "\n",
       "        [[50,  1, 29, 68,  2, 50],\n",
       "         [81, 71, 91, 10, 57, 33],\n",
       "         [87, 89, 65, 75, 18, 29],\n",
       "         [16, 38, 37,  3, 76, 47],\n",
       "         [70, 94, 19, 54, 14, 40]],\n",
       "\n",
       "        [[36, 77, 85, 61, 69, 13],\n",
       "         [49,  7, 54, 42, 76, 50],\n",
       "         [70, 96, 41, 30, 11, 99],\n",
       "         [21, 10,  3,  3, 86, 87],\n",
       "         [85, 17, 22, 36, 84, 86]],\n",
       "\n",
       "        [[17, 20, 72, 86, 65, 90],\n",
       "         [32, 97, 71, 87,  7, 87],\n",
       "         [13, 64, 42,  7, 44, 71],\n",
       "         [46, 64, 71, 28, 40, 22],\n",
       "         [65, 91, 55, 46, 74, 28]]],\n",
       "\n",
       "\n",
       "       [[[44, 36, 45, 77, 32, 37],\n",
       "         [43, 83, 85, 65,  5, 66],\n",
       "         [69, 44, 33,  9, 73, 51],\n",
       "         [47, 87, 91, 68, 93, 98],\n",
       "         [ 9, 70, 93, 44, 76, 78]],\n",
       "\n",
       "        [[54, 17, 90, 37,  1, 48],\n",
       "         [72,  9, 61, 91, 38, 58],\n",
       "         [49, 17, 68, 68, 22, 30],\n",
       "         [84,  7, 14, 93, 64, 55],\n",
       "         [55, 40,  5, 72, 60, 11]],\n",
       "\n",
       "        [[24, 23, 36, 81, 48, 88],\n",
       "         [88, 10, 92, 17, 49,  0],\n",
       "         [15, 97, 18, 67, 72, 98],\n",
       "         [31, 85, 79, 79, 85, 21],\n",
       "         [12, 48,  7, 46, 50, 88]],\n",
       "\n",
       "        [[45,  2,  3, 39, 92, 44],\n",
       "         [37, 41, 50, 30, 35, 45],\n",
       "         [42, 94, 83,  1, 81, 53],\n",
       "         [41, 43, 47, 87, 18, 34],\n",
       "         [57,  0, 12, 81, 92, 21]]],\n",
       "\n",
       "\n",
       "       [[[68, 32, 33, 88, 20, 97],\n",
       "         [97, 12, 36, 17,  4, 66],\n",
       "         [24, 53, 39,  3, 14, 54],\n",
       "         [63, 13, 49,  1, 78, 25],\n",
       "         [85, 13, 39, 45, 83, 45]],\n",
       "\n",
       "        [[18, 48, 14,  9,  3, 87],\n",
       "         [71, 73, 45, 37, 37, 87],\n",
       "         [19, 56, 82, 56, 21, 56],\n",
       "         [91, 13, 38, 68, 69, 68],\n",
       "         [47, 98, 71, 29, 90, 29]],\n",
       "\n",
       "        [[46, 45, 77, 46, 30, 57],\n",
       "         [17, 84, 32, 52, 27, 64],\n",
       "         [66, 41, 32,  2, 27, 50],\n",
       "         [81, 84, 46, 30, 62, 89],\n",
       "         [30, 17, 73, 46,  4, 71]],\n",
       "\n",
       "        [[85, 15, 92, 56, 59, 70],\n",
       "         [56, 47, 26, 35, 69, 96],\n",
       "         [29, 28, 85, 99, 37, 55],\n",
       "         [96, 63, 56,  2, 34, 78],\n",
       "         [66, 50, 91, 29, 42, 95]]]], dtype=int64)"
      ]
     },
     "execution_count": 30,
     "metadata": {},
     "output_type": "execute_result"
    }
   ],
   "source": [
    "b"
   ]
  },
  {
   "cell_type": "code",
   "execution_count": 36,
   "id": "a7fa4f4e",
   "metadata": {},
   "outputs": [],
   "source": [
    "d = np.identity(2)"
   ]
  },
  {
   "cell_type": "code",
   "execution_count": 37,
   "id": "d39ddbdd",
   "metadata": {},
   "outputs": [
    {
     "data": {
      "text/plain": [
       "array([[1., 0.],\n",
       "       [0., 1.]])"
      ]
     },
     "execution_count": 37,
     "metadata": {},
     "output_type": "execute_result"
    }
   ],
   "source": [
    "d"
   ]
  },
  {
   "cell_type": "raw",
   "id": "a70e878e",
   "metadata": {},
   "source": [
    "repeat\\\\"
   ]
  },
  {
   "cell_type": "code",
   "execution_count": 39,
   "id": "50e31ed2",
   "metadata": {},
   "outputs": [],
   "source": [
    "arr2 = np.array([1,2,3])"
   ]
  },
  {
   "cell_type": "markdown",
   "id": "98eccba8",
   "metadata": {},
   "source": []
  },
  {
   "cell_type": "code",
   "execution_count": 40,
   "id": "80c9cb5a",
   "metadata": {},
   "outputs": [
    {
     "data": {
      "text/plain": [
       "array([1, 2, 3])"
      ]
     },
     "execution_count": 40,
     "metadata": {},
     "output_type": "execute_result"
    }
   ],
   "source": [
    "arr2"
   ]
  },
  {
   "cell_type": "code",
   "execution_count": 41,
   "id": "b0eac398",
   "metadata": {},
   "outputs": [
    {
     "data": {
      "text/plain": [
       "(3,)"
      ]
     },
     "execution_count": 41,
     "metadata": {},
     "output_type": "execute_result"
    }
   ],
   "source": [
    "arr2.shape"
   ]
  },
  {
   "cell_type": "markdown",
   "id": "04e8f4ed",
   "metadata": {},
   "source": [
    "print(a"
   ]
  },
  {
   "cell_type": "code",
   "execution_count": 42,
   "id": "d0786b67",
   "metadata": {},
   "outputs": [
    {
     "name": "stdout",
     "output_type": "stream",
     "text": [
      "3\n",
      "(3,)\n",
      "4\n",
      "1\n"
     ]
    }
   ],
   "source": [
    "print(arr2.size)\n",
    "print(arr2.shape)\n",
    "print(arr2.itemsize)\n",
    "print(arr2.ndim)"
   ]
  },
  {
   "cell_type": "code",
   "execution_count": 43,
   "id": "efdb9e52",
   "metadata": {},
   "outputs": [],
   "source": [
    "arr3 = np.array([[1,2,3]])"
   ]
  },
  {
   "cell_type": "code",
   "execution_count": 44,
   "id": "7ba586d5",
   "metadata": {},
   "outputs": [
    {
     "name": "stdout",
     "output_type": "stream",
     "text": [
      "[[1 2 3]]\n",
      "2\n"
     ]
    }
   ],
   "source": [
    "print(arr3)\n",
    "print(arr3.ndim)"
   ]
  },
  {
   "cell_type": "code",
   "execution_count": 45,
   "id": "715de631",
   "metadata": {},
   "outputs": [
    {
     "data": {
      "text/plain": [
       "array([[[[ 1. ,  3.5,  6. ,  8.5, 11. ],\n",
       "         [13.5, 16. , 18.5, 21. , 23.5]],\n",
       "\n",
       "        [[26. , 28.5, 31. , 33.5, 36. ],\n",
       "         [38.5, 41. , 43.5, 46. , 48.5]]],\n",
       "\n",
       "\n",
       "       [[[51. , 53.5, 56. , 58.5, 61. ],\n",
       "         [63.5, 66. , 68.5, 71. , 73.5]],\n",
       "\n",
       "        [[76. , 78.5, 81. , 83.5, 86. ],\n",
       "         [88.5, 91. , 93.5, 96. , 98.5]]]])"
      ]
     },
     "execution_count": 45,
     "metadata": {},
     "output_type": "execute_result"
    }
   ],
   "source": [
    "arr1"
   ]
  },
  {
   "cell_type": "code",
   "execution_count": 49,
   "id": "43f294c0",
   "metadata": {},
   "outputs": [],
   "source": [
    "arr4 = np.array([[1,2,3],[4,5,6]])"
   ]
  },
  {
   "cell_type": "code",
   "execution_count": 50,
   "id": "19f40c8e",
   "metadata": {},
   "outputs": [
    {
     "data": {
      "text/plain": [
       "2"
      ]
     },
     "execution_count": 50,
     "metadata": {},
     "output_type": "execute_result"
    }
   ],
   "source": [
    "arr4.ndim"
   ]
  },
  {
   "cell_type": "code",
   "execution_count": 51,
   "id": "b9c67f39",
   "metadata": {},
   "outputs": [
    {
     "data": {
      "text/plain": [
       "array([[1, 2, 3],\n",
       "       [4, 5, 6]])"
      ]
     },
     "execution_count": 51,
     "metadata": {},
     "output_type": "execute_result"
    }
   ],
   "source": [
    "arr4"
   ]
  },
  {
   "cell_type": "code",
   "execution_count": null,
   "id": "2b395900",
   "metadata": {},
   "outputs": [],
   "source": []
  }
 ],
 "metadata": {
  "kernelspec": {
   "display_name": "Python 3 (ipykernel)",
   "language": "python",
   "name": "python3"
  },
  "language_info": {
   "codemirror_mode": {
    "name": "ipython",
    "version": 3
   },
   "file_extension": ".py",
   "mimetype": "text/x-python",
   "name": "python",
   "nbconvert_exporter": "python",
   "pygments_lexer": "ipython3",
   "version": "3.9.12"
  }
 },
 "nbformat": 4,
 "nbformat_minor": 5
}
